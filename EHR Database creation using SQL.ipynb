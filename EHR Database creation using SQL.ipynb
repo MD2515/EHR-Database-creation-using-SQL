{
 "cells": [
  {
   "cell_type": "markdown",
   "id": "ed208c05",
   "metadata": {},
   "source": [
    "# Create Table"
   ]
  },
  {
   "cell_type": "code",
   "execution_count": 3,
   "id": "f339e489",
   "metadata": {},
   "outputs": [],
   "source": [
    "import sqlite3\n",
    "\n",
    "conn = sqlite3.connect('Er_database_508_Finalproject.db')\n",
    "cursor = conn.cursor()"
   ]
  },
  {
   "cell_type": "code",
   "execution_count": 4,
   "id": "35660bfc",
   "metadata": {},
   "outputs": [
    {
     "data": {
      "text/plain": [
       "<sqlite3.Cursor at 0x156781b0040>"
      ]
     },
     "execution_count": 4,
     "metadata": {},
     "output_type": "execute_result"
    }
   ],
   "source": [
    "cursor.execute('''\n",
    "    CREATE TABLE IF NOT EXISTS PatientInfo (\n",
    "        Patientid INTEGER PRIMARY KEY AUTOINCREMENT,\n",
    "        Insuranceid VARCHAR(255) NOT NULL,\n",
    "        Fname VARCHAR(55) NOT NULL,\n",
    "        Lname VARCHAR(55) NOT NULL,\n",
    "        sex VARCHAR(6) CHECK(sex IN ('male', 'female')) NOT NULL,\n",
    "        DOB DATE NOT NULL,\n",
    "        ContactInfo VARCHAR(55) NOT NULL,\n",
    "        Address VARCHAR(255) NOT NULL\n",
    "    )\n",
    "''')"
   ]
  },
  {
   "cell_type": "code",
   "execution_count": 5,
   "id": "44e720d5",
   "metadata": {},
   "outputs": [
    {
     "data": {
      "text/plain": [
       "<sqlite3.Cursor at 0x156781b0040>"
      ]
     },
     "execution_count": 5,
     "metadata": {},
     "output_type": "execute_result"
    }
   ],
   "source": [
    "cursor.execute('''\n",
    "    CREATE TABLE IF NOT EXISTS History (\n",
    "        Historyid INTEGER PRIMARY KEY AUTOINCREMENT,\n",
    "        Patientid INTEGER,\n",
    "        Pdisease VARCHAR(255) NOT NULL,\n",
    "        Psurgery VARCHAR(255) NOT NULL,\n",
    "        Ptrauma VARCHAR(255) NOT NULL,\n",
    "        Pmedication VARCHAR(255) NOT NULL,\n",
    "        FamilyH VARCHAR(255) NOT NULL\n",
    "    )\n",
    "''')"
   ]
  },
  {
   "cell_type": "code",
   "execution_count": 6,
   "id": "0cdfb3b0",
   "metadata": {},
   "outputs": [
    {
     "data": {
      "text/plain": [
       "<sqlite3.Cursor at 0x156781b0040>"
      ]
     },
     "execution_count": 6,
     "metadata": {},
     "output_type": "execute_result"
    }
   ],
   "source": [
    "cursor.execute('''\n",
    "    CREATE TABLE IF NOT EXISTS Vitals (\n",
    "        Vitalsid INTEGER PRIMARY KEY AUTOINCREMENT,\n",
    "        Patientid INTEGER,\n",
    "        Temp VARCHAR(3) NOT NULL,\n",
    "        Hr VARCHAR(3) NOT NULL,\n",
    "        Rr VARCHAR(3) NOT NULL,\n",
    "        BP VARCHAR(10) NOT NULL,\n",
    "        Bg VARCHAR(3) NOT NULL,\n",
    "        BMI VARCHAR(10) NOT NULL\n",
    "    )\n",
    "''')"
   ]
  },
  {
   "cell_type": "code",
   "execution_count": 7,
   "id": "a42d3d75",
   "metadata": {},
   "outputs": [
    {
     "data": {
      "text/plain": [
       "<sqlite3.Cursor at 0x156781b0040>"
      ]
     },
     "execution_count": 7,
     "metadata": {},
     "output_type": "execute_result"
    }
   ],
   "source": [
    "cursor.execute('''\n",
    "    CREATE TABLE IF NOT EXISTS AlleImmu (\n",
    "        AlleImmuid INTEGER PRIMARY KEY AUTOINCREMENT,\n",
    "        Patientid INTEGER,\n",
    "        Allergies VARCHAR(255) NOT NULL,\n",
    "        Immunization VARCHAR(255) NOT NULL\n",
    "    )\n",
    "''')"
   ]
  },
  {
   "cell_type": "code",
   "execution_count": 8,
   "id": "aa564c87",
   "metadata": {},
   "outputs": [
    {
     "data": {
      "text/plain": [
       "<sqlite3.Cursor at 0x156781b0040>"
      ]
     },
     "execution_count": 8,
     "metadata": {},
     "output_type": "execute_result"
    }
   ],
   "source": [
    "cursor.execute('''\n",
    "    CREATE TABLE IF NOT EXISTS Tests (\n",
    "        Testid INTEGER PRIMARY KEY AUTOINCREMENT,\n",
    "        Patientid INTEGER,\n",
    "        bloodgroup VARCHAR(10) NOT NULL,\n",
    "        HbsAg VARCHAR(55) NOT NULL,\n",
    "        Bhcg VARCHAR(55) NOT NULL,\n",
    "        EKG VARCHAR(55) NOT NULL,\n",
    "        ABG VARCHAR(55) NOT NULL\n",
    "    )\n",
    "''')"
   ]
  },
  {
   "cell_type": "code",
   "execution_count": 9,
   "id": "0cd3816b",
   "metadata": {},
   "outputs": [
    {
     "data": {
      "text/plain": [
       "<sqlite3.Cursor at 0x156781b0040>"
      ]
     },
     "execution_count": 9,
     "metadata": {},
     "output_type": "execute_result"
    }
   ],
   "source": [
    "cursor.execute('''\n",
    "    CREATE TABLE IF NOT EXISTS Staff (\n",
    "        Staffid INTEGER PRIMARY KEY AUTOINCREMENT,\n",
    "        Patientid INTEGER,\n",
    "        ConsultingDr VARCHAR(55) NOT NULL,\n",
    "        SeniorDr VARCHAR(55) NOT NULL,\n",
    "        JuniorDr VARCHAR(55) NOT NULL,\n",
    "        Nurse1 VARCHAR(55) NOT NULL,\n",
    "        Nurse2 VARCHAR(55) NOT NULL\n",
    "    )\n",
    "''')"
   ]
  },
  {
   "cell_type": "code",
   "execution_count": null,
   "id": "32d26f88",
   "metadata": {},
   "outputs": [],
   "source": [
    "conn.commit()"
   ]
  },
  {
   "cell_type": "markdown",
   "id": "10fb6313",
   "metadata": {},
   "source": [
    "# # Insert data in to the table"
   ]
  },
  {
   "cell_type": "markdown",
   "id": "5004a36e",
   "metadata": {},
   "source": [
    "# # Table PatientInfo"
   ]
  },
  {
   "cell_type": "code",
   "execution_count": 10,
   "id": "0bf4bac1",
   "metadata": {},
   "outputs": [
    {
     "data": {
      "text/plain": [
       "<sqlite3.Cursor at 0x156781b0040>"
      ]
     },
     "execution_count": 10,
     "metadata": {},
     "output_type": "execute_result"
    }
   ],
   "source": [
    "cursor.executemany('''\n",
    "    INSERT INTO PatientInfo (Insuranceid, Fname, Lname, sex, DOB, ContactInfo, Address)\n",
    "    VALUES (?, ?, ?, ?, ?, ?, ?)\n",
    "''', [\n",
    "    ('ABC123', 'Charles', 'Jhonson', 'male', '1990-01-01', '123-456-7890', '123 Main St'),\n",
    "    ('XYZ456', 'Amy', 'Dart', 'female', '1985-05-15', '987-654-3210', '456 Oak St'),\n",
    "    ('DEF789', 'John', 'Charlestono', 'male', '1978-08-22', '555-123-4567', '789 Pine St'),\n",
    "    ('GHI123', 'Niki', 'Hart', 'female', '1995-04-10', '222-333-4444', '567 Elm St'),\n",
    "    ('JKL456', 'Taco', 'prince', 'male', '1980-11-30', '777-888-9999', '321 Maple St')\n",
    "])"
   ]
  },
  {
   "cell_type": "markdown",
   "id": "aaa9d890",
   "metadata": {},
   "source": [
    "# #  Table History"
   ]
  },
  {
   "cell_type": "code",
   "execution_count": 11,
   "id": "cfa6c3d4",
   "metadata": {},
   "outputs": [
    {
     "data": {
      "text/plain": [
       "<sqlite3.Cursor at 0x156781b0040>"
      ]
     },
     "execution_count": 11,
     "metadata": {},
     "output_type": "execute_result"
    }
   ],
   "source": [
    "cursor.executemany('''\n",
    "    INSERT INTO History (Patientid, Pdisease, Psurgery, Ptrauma, Pmedication, FamilyH)\n",
    "    VALUES (?, ?, ?, ?, ?, ?)\n",
    "''', [\n",
    "    (1, 'Flu', 'Appendectomy', 'Car accident', 'Aspirin', 'No significant history'),\n",
    "    (2, 'Allergies', 'Gallbladder removal', 'Broken leg', 'Antibiotics', 'Family heart disease'),\n",
    "    (3, 'Diabetes', 'Knee surgery', 'Head injury', 'Insulin', 'No significant history'),\n",
    "    (4, 'High blood pressure', 'Cataract surgery', 'Sports injury', 'Beta blockers', 'Family diabetes'),\n",
    "    (5, 'Asthma', 'Hernia repair', 'Fractured arm', 'Inhaler', 'No significant history')\n",
    "])"
   ]
  },
  {
   "cell_type": "markdown",
   "id": "18f2b40b",
   "metadata": {},
   "source": [
    "# # Table Vitals"
   ]
  },
  {
   "cell_type": "code",
   "execution_count": 12,
   "id": "8f910d86",
   "metadata": {},
   "outputs": [
    {
     "data": {
      "text/plain": [
       "<sqlite3.Cursor at 0x156781b0040>"
      ]
     },
     "execution_count": 12,
     "metadata": {},
     "output_type": "execute_result"
    }
   ],
   "source": [
    "cursor.executemany('''\n",
    "    INSERT INTO Vitals (Patientid, Temp, Hr, Rr, BP, Bg, BMI)\n",
    "    VALUES (?, ?, ?, ?, ?, ?, ?)\n",
    "''', [\n",
    "    (1, '98.6', '75', '16', '120/80', '100', '23.5'),\n",
    "    (2, '99.0', '80', '18', '130/90', '120', '25.0'),\n",
    "    (3, '98.8', '72', '15', '115/75', '90', '22.0'),\n",
    "    (4, '98.5', '78', '17', '125/85', '110', '24.0'),\n",
    "    (5, '98.7', '76', '16', '122/78', '95', '23.0')\n",
    "])"
   ]
  },
  {
   "cell_type": "markdown",
   "id": "aa2c4124",
   "metadata": {},
   "source": [
    "# # Table AlleImmu"
   ]
  },
  {
   "cell_type": "code",
   "execution_count": 13,
   "id": "ffa265a9",
   "metadata": {},
   "outputs": [
    {
     "data": {
      "text/plain": [
       "<sqlite3.Cursor at 0x156781b0040>"
      ]
     },
     "execution_count": 13,
     "metadata": {},
     "output_type": "execute_result"
    }
   ],
   "source": [
    "cursor.executemany('''\n",
    "    INSERT INTO AlleImmu (Patientid, Allergies, Immunization)\n",
    "    VALUES (?, ?, ?)\n",
    "''', [\n",
    "    (1, 'Penicillin', 'Flu shot'),\n",
    "    (2, 'Pollen', 'Tetanus vaccine'),\n",
    "    (3, 'Shellfish', 'Hepatitis B vaccine'),\n",
    "    (4, 'Dust mites', 'MMR vaccine'),\n",
    "    (5, 'Cat hair', 'Pneumococcal vaccine')\n",
    "])"
   ]
  },
  {
   "cell_type": "markdown",
   "id": "dfe6e0d8",
   "metadata": {},
   "source": [
    "# # Table Tests"
   ]
  },
  {
   "cell_type": "code",
   "execution_count": 17,
   "id": "988695e4",
   "metadata": {},
   "outputs": [
    {
     "data": {
      "text/plain": [
       "<sqlite3.Cursor at 0x156781b0040>"
      ]
     },
     "execution_count": 17,
     "metadata": {},
     "output_type": "execute_result"
    }
   ],
   "source": [
    "cursor.executemany('''\n",
    "    INSERT INTO Tests (Patientid, bloodgroup, HbsAg, Bhcg, EKG, ABG)\n",
    "    VALUES (?, ?, ?, ?, ?, ?)\n",
    "''', [\n",
    "    (1, 'A+', 'Negative', 'Not pregnant', 'Normal', '7.4'),\n",
    "    (2, 'O-', 'Positive', 'Pregnant', 'Abnormal', '7.2'),\n",
    "    (3, 'B+', 'Negative', 'Not pregnant', 'Normal', '7.5'),\n",
    "    (4, 'AB-', 'Positive', 'Not pregnant', 'Abnormal', '7.3'),\n",
    "    (5, 'A-', 'Negative', 'Not pregnant', 'Normal', '7.6')\n",
    "])"
   ]
  },
  {
   "cell_type": "markdown",
   "id": "49b17775",
   "metadata": {},
   "source": [
    "# # Table Staff"
   ]
  },
  {
   "cell_type": "code",
   "execution_count": 18,
   "id": "892453b6",
   "metadata": {},
   "outputs": [
    {
     "data": {
      "text/plain": [
       "<sqlite3.Cursor at 0x156781b0040>"
      ]
     },
     "execution_count": 18,
     "metadata": {},
     "output_type": "execute_result"
    }
   ],
   "source": [
    "cursor.executemany('''\n",
    "    INSERT INTO Staff (Patientid, ConsultingDr, SeniorDr, JuniorDr, Nurse1, Nurse2)\n",
    "    VALUES (?, ?, ?, ?, ?, ?)\n",
    "''', [\n",
    "    (1, 'Dr. Smith', 'Dr. Johnson', 'Dr. Anderson', 'Nurse Amy', 'Nurse Olivia'),\n",
    "    (2, 'Dr. Williams', 'Dr. Davis', 'Dr. Taylor', 'Nurse Lexi', 'Nurse Emma'),\n",
    "    (3, 'Dr. Jones', 'Dr. Wilson', 'Dr. Miller', 'Nurse Diana', 'Nurse Charlotte'),\n",
    "    (4, 'Dr. Brown', 'Dr. Lee', 'Dr. Harris', 'Nurse Brie', 'Nurse Ava'),\n",
    "    (5, 'Dr. White', 'Dr. Moore', 'Dr. Clark', 'Nurse Lexi', 'Nurse Mia')\n",
    "])"
   ]
  },
  {
   "cell_type": "code",
   "execution_count": 19,
   "id": "2dcbdff3",
   "metadata": {},
   "outputs": [],
   "source": [
    "conn.commit()"
   ]
  },
  {
   "cell_type": "markdown",
   "id": "4f22dd57",
   "metadata": {},
   "source": [
    "# Queriese"
   ]
  },
  {
   "cell_type": "markdown",
   "id": "3a243d7b",
   "metadata": {},
   "source": [
    "# #Table PatientInfo"
   ]
  },
  {
   "cell_type": "code",
   "execution_count": 20,
   "id": "0df0cee1",
   "metadata": {},
   "outputs": [
    {
     "name": "stdout",
     "output_type": "stream",
     "text": [
      "Female Patients:\n",
      "[(2, 'XYZ456', 'Amy', 'Dart', 'female', '1985-05-15', '987-654-3210', '456 Oak St'), (4, 'GHI123', 'Niki', 'Hart', 'female', '1995-04-10', '222-333-4444', '567 Elm St')]\n"
     ]
    }
   ],
   "source": [
    "query_patient_female = \"SELECT * FROM PatientInfo WHERE sex = 'female';\"\n",
    "cursor.execute(query_patient_female)\n",
    "print(\"Female Patients:\")\n",
    "print(cursor.fetchall())"
   ]
  },
  {
   "cell_type": "code",
   "execution_count": 35,
   "id": "07123498",
   "metadata": {
    "scrolled": true
   },
   "outputs": [
    {
     "name": "stdout",
     "output_type": "stream",
     "text": [
      "\n",
      "Patients who are 30 years old and are male:\n",
      "[(1, 'ABC123', 'Charles', 'Jhonson', 'male', '1990-01-01', '123-456-7890', '123 Main St'), (3, 'DEF789', 'John', 'Charlestono', 'male', '1978-08-22', '555-123-4567', '789 Pine St'), (5, 'JKL456', 'Taco', 'prince', 'male', '1980-11-30', '777-888-9999', '321 Maple St')]\n"
     ]
    }
   ],
   "source": [
    "query_patient_30_male = \"SELECT * FROM PatientInfo WHERE (strftime('%Y', 'now') - strftime('%Y', DOB)) - (strftime('%m-%d', 'now') < strftime('%m-%d', DOB)) >= 30 AND sex = 'male';\"\n",
    "cursor.execute(query_patient_30_male)\n",
    "result = cursor.fetchall()\n",
    "print(\"\\nPatients who are 30 years old and are male:\")\n",
    "print(result)"
   ]
  },
  {
   "cell_type": "code",
   "execution_count": 36,
   "id": "9d516d4a",
   "metadata": {},
   "outputs": [
    {
     "name": "stdout",
     "output_type": "stream",
     "text": [
      "\n",
      "Patients who are 30 years old:\n",
      "[(1, 'ABC123', 'Charles', 'Jhonson', 'male', '1990-01-01', '123-456-7890', '123 Main St'), (2, 'XYZ456', 'Amy', 'Dart', 'female', '1985-05-15', '987-654-3210', '456 Oak St'), (3, 'DEF789', 'John', 'Charlestono', 'male', '1978-08-22', '555-123-4567', '789 Pine St'), (5, 'JKL456', 'Taco', 'prince', 'male', '1980-11-30', '777-888-9999', '321 Maple St')]\n"
     ]
    }
   ],
   "source": [
    "query_patient_30 = \"SELECT * FROM PatientInfo WHERE (strftime('%Y', 'now') - strftime('%Y', DOB)) - (strftime('%m-%d', 'now') < strftime('%m-%d', DOB)) >= 30;\"\n",
    "cursor.execute(query_patient_30)\n",
    "print(\"\\nPatients who are 30 years old:\")\n",
    "print(cursor.fetchall())"
   ]
  },
  {
   "cell_type": "code",
   "execution_count": null,
   "id": "f7eb7318",
   "metadata": {},
   "outputs": [],
   "source": []
  },
  {
   "cell_type": "markdown",
   "id": "444043d5",
   "metadata": {},
   "source": [
    "# # Table History"
   ]
  },
  {
   "cell_type": "code",
   "execution_count": 23,
   "id": "3ca6d139",
   "metadata": {},
   "outputs": [
    {
     "name": "stdout",
     "output_type": "stream",
     "text": [
      "\n",
      "Patients with No Significant History in Family History:\n",
      "[(1, 1, 'Flu', 'Appendectomy', 'Car accident', 'Aspirin', 'No significant history'), (3, 3, 'Diabetes', 'Knee surgery', 'Head injury', 'Insulin', 'No significant history'), (5, 5, 'Asthma', 'Hernia repair', 'Fractured arm', 'Inhaler', 'No significant history')]\n"
     ]
    }
   ],
   "source": [
    "query_no_significant_history = \"SELECT * FROM History WHERE FamilyH = 'No significant history';\"\n",
    "cursor.execute(query_no_significant_history)\n",
    "print(\"\\nPatients with No Significant History in Family History:\")\n",
    "print(cursor.fetchall())"
   ]
  },
  {
   "cell_type": "code",
   "execution_count": 37,
   "id": "ab3902b8",
   "metadata": {},
   "outputs": [
    {
     "name": "stdout",
     "output_type": "stream",
     "text": [
      "\n",
      "No data found.\n"
     ]
    }
   ],
   "source": [
    "query_knee_injury_inhaler = \"SELECT * FROM History WHERE Ptrauma = 'Knee injury' AND Pmedication = 'Inhaler';\"\n",
    "cursor.execute(query_knee_injury_inhaler)\n",
    "result = cursor.fetchall()\n",
    "\n",
    "if result:\n",
    "    print(\"\\nPatients with Knee Injury and Use Inhaler:\")\n",
    "    print(result)\n",
    "else:\n",
    "    print(\"\\nNo data found.\")"
   ]
  },
  {
   "cell_type": "code",
   "execution_count": null,
   "id": "14d6c22e",
   "metadata": {},
   "outputs": [],
   "source": []
  },
  {
   "cell_type": "markdown",
   "id": "675bcd55",
   "metadata": {},
   "source": [
    "# # Table Vitals"
   ]
  },
  {
   "cell_type": "code",
   "execution_count": 25,
   "id": "3c95b1ea",
   "metadata": {},
   "outputs": [
    {
     "name": "stdout",
     "output_type": "stream",
     "text": [
      "\n",
      "Patients with Patient ID 5 in Vitals:\n",
      "[(5, 5, '98.7', '76', '16', '122/78', '5.6', '23.0')]\n"
     ]
    }
   ],
   "source": [
    "query_patient_id_5 = \"SELECT * FROM Vitals WHERE Patientid = 5;\"\n",
    "cursor.execute(query_patient_id_5)\n",
    "print(\"\\nPatients with Patient ID 5 in Vitals:\")\n",
    "print(cursor.fetchall())"
   ]
  },
  {
   "cell_type": "code",
   "execution_count": 38,
   "id": "717ace3e",
   "metadata": {},
   "outputs": [
    {
     "name": "stdout",
     "output_type": "stream",
     "text": [
      "\n",
      "Patients with Temperature of 99 in Vitals:\n",
      "[(2, 2, '99.0', '80', '18', '130/90', '6.0', '25.0')]\n"
     ]
    }
   ],
   "source": [
    "query_temperature_99 = \"SELECT * FROM Vitals WHERE Temp LIKE '99%';\"\n",
    "cursor.execute(query_temperature_99)\n",
    "result = cursor.fetchall()\n",
    "\n",
    "if result:\n",
    "    print(\"\\nPatients with Temperature of 99 in Vitals:\")\n",
    "    print(result)\n",
    "else:\n",
    "    print(\"\\nNo data found.\")"
   ]
  },
  {
   "cell_type": "code",
   "execution_count": null,
   "id": "358ade75",
   "metadata": {},
   "outputs": [],
   "source": []
  },
  {
   "cell_type": "markdown",
   "id": "0158ddb3",
   "metadata": {},
   "source": [
    "# # Table AlleImmu"
   ]
  },
  {
   "cell_type": "code",
   "execution_count": 27,
   "id": "0d649899",
   "metadata": {},
   "outputs": [
    {
     "name": "stdout",
     "output_type": "stream",
     "text": [
      "\n",
      "Patients with Cat Hair Allergies:\n",
      "[(5, 5, 'Cat hair', 'Pneumococcal vaccine')]\n"
     ]
    }
   ],
   "source": [
    "query_cat_hair_allergies = \"SELECT * FROM AlleImmu WHERE Allergies = 'Cat hair';\"\n",
    "cursor.execute(query_cat_hair_allergies)\n",
    "print(\"\\nPatients with Cat Hair Allergies:\")\n",
    "print(cursor.fetchall())"
   ]
  },
  {
   "cell_type": "code",
   "execution_count": 28,
   "id": "011b4cd4",
   "metadata": {},
   "outputs": [
    {
     "name": "stdout",
     "output_type": "stream",
     "text": [
      "\n",
      "Patients with Shellfish Allergy and Have Taken Hepatitis B Vaccine:\n",
      "[(3, 3, 'Shellfish', 'Hepatitis B vaccine')]\n"
     ]
    }
   ],
   "source": [
    "query_shellfish_hepatitis_b = \"SELECT * FROM AlleImmu WHERE Allergies = 'Shellfish' AND Immunization = 'Hepatitis B vaccine';\"\n",
    "cursor.execute(query_shellfish_hepatitis_b)\n",
    "print(\"\\nPatients with Shellfish Allergy and Have Taken Hepatitis B Vaccine:\")\n",
    "print(cursor.fetchall())"
   ]
  },
  {
   "cell_type": "code",
   "execution_count": null,
   "id": "21c9f42e",
   "metadata": {},
   "outputs": [],
   "source": []
  },
  {
   "cell_type": "markdown",
   "id": "6ffad711",
   "metadata": {},
   "source": [
    "# # Table Tests"
   ]
  },
  {
   "cell_type": "code",
   "execution_count": 29,
   "id": "695a3fae",
   "metadata": {},
   "outputs": [
    {
     "name": "stdout",
     "output_type": "stream",
     "text": [
      "\n",
      "Patients That Are Not Pregnant:\n",
      "[(1, 1, 'A+', 'Negative', 'Not pregnant', 'Normal', '7.4'), (3, 3, 'B+', 'Negative', 'Not pregnant', 'Normal', '7.5'), (4, 4, 'AB-', 'Positive', 'Not pregnant', 'Abnormal', '7.3'), (5, 5, 'A-', 'Negative', 'Not pregnant', 'Normal', '7.6')]\n"
     ]
    }
   ],
   "source": [
    "query_not_pregnant = \"SELECT * FROM Tests WHERE Bhcg = 'Not pregnant';\"\n",
    "cursor.execute(query_not_pregnant)\n",
    "print(\"\\nPatients That Are Not Pregnant:\")\n",
    "print(cursor.fetchall())"
   ]
  },
  {
   "cell_type": "code",
   "execution_count": 30,
   "id": "563af092",
   "metadata": {},
   "outputs": [
    {
     "name": "stdout",
     "output_type": "stream",
     "text": [
      "\n",
      "Patients That Are Not Pregnant and Have A+ Blood Group:\n",
      "[(1, 1, 'A+', 'Negative', 'Not pregnant', 'Normal', '7.4')]\n"
     ]
    }
   ],
   "source": [
    "query_not_pregnant_a_plus = \"SELECT * FROM Tests WHERE Bhcg = 'Not pregnant' AND bloodgroup = 'A+';\"\n",
    "cursor.execute(query_not_pregnant_a_plus)\n",
    "print(\"\\nPatients That Are Not Pregnant and Have A+ Blood Group:\")\n",
    "print(cursor.fetchall())"
   ]
  },
  {
   "cell_type": "code",
   "execution_count": null,
   "id": "f085f793",
   "metadata": {},
   "outputs": [],
   "source": []
  },
  {
   "cell_type": "markdown",
   "id": "1013957f",
   "metadata": {},
   "source": [
    "# # Table Staff"
   ]
  },
  {
   "cell_type": "code",
   "execution_count": 31,
   "id": "637612e1",
   "metadata": {},
   "outputs": [
    {
     "name": "stdout",
     "output_type": "stream",
     "text": [
      "\n",
      "Patients Being Treated by Dr. Smith:\n",
      "[(1, 1, 'Dr. Smith', 'Dr. Johnson', 'Dr. Anderson', 'Nurse Amy', 'Nurse Olivia')]\n"
     ]
    }
   ],
   "source": [
    "query_dr_smith = \"SELECT * FROM Staff WHERE ConsultingDr = 'Dr. Smith';\"\n",
    "cursor.execute(query_dr_smith)\n",
    "print(\"\\nPatients Being Treated by Dr. Smith:\")\n",
    "print(cursor.fetchall())"
   ]
  },
  {
   "cell_type": "code",
   "execution_count": 39,
   "id": "163f5db2",
   "metadata": {},
   "outputs": [
    {
     "name": "stdout",
     "output_type": "stream",
     "text": [
      "\n",
      "Patients Being Treated by Dr. Brown and Nurse Brie:\n",
      "[(4, 4, 'Dr. Brown', 'Dr. Lee', 'Dr. Harris', 'Nurse Brie', 'Nurse Ava')]\n"
     ]
    }
   ],
   "source": [
    "query_dr_brown_nurse_blue = \"SELECT * FROM Staff WHERE ConsultingDr = 'Dr. Brown' AND Nurse1 = 'Nurse Brie';\"\n",
    "cursor.execute(query_dr_brown_nurse_blue)\n",
    "print(\"\\nPatients Being Treated by Dr. Brown and Nurse Brie:\")\n",
    "print(cursor.fetchall())\n"
   ]
  },
  {
   "cell_type": "code",
   "execution_count": 40,
   "id": "de19244e",
   "metadata": {},
   "outputs": [],
   "source": [
    "conn.commit()"
   ]
  },
  {
   "cell_type": "code",
   "execution_count": null,
   "id": "074752fb",
   "metadata": {},
   "outputs": [],
   "source": [
    "conn.close()"
   ]
  },
  {
   "cell_type": "code",
   "execution_count": null,
   "id": "e9659c70",
   "metadata": {},
   "outputs": [],
   "source": []
  },
  {
   "cell_type": "code",
   "execution_count": null,
   "id": "da78ccf6",
   "metadata": {},
   "outputs": [],
   "source": []
  },
  {
   "cell_type": "code",
   "execution_count": null,
   "id": "52c2d7b3",
   "metadata": {},
   "outputs": [],
   "source": []
  },
  {
   "cell_type": "code",
   "execution_count": null,
   "id": "dcadc6c0",
   "metadata": {},
   "outputs": [],
   "source": []
  },
  {
   "cell_type": "code",
   "execution_count": null,
   "id": "4b02e3d2",
   "metadata": {},
   "outputs": [],
   "source": []
  }
 ],
 "metadata": {
  "kernelspec": {
   "display_name": "Python 3 (ipykernel)",
   "language": "python",
   "name": "python3"
  },
  "language_info": {
   "codemirror_mode": {
    "name": "ipython",
    "version": 3
   },
   "file_extension": ".py",
   "mimetype": "text/x-python",
   "name": "python",
   "nbconvert_exporter": "python",
   "pygments_lexer": "ipython3",
   "version": "3.11.5"
  }
 },
 "nbformat": 4,
 "nbformat_minor": 5
}
